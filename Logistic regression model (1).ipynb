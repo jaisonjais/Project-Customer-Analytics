{
 "cells": [
  {
   "cell_type": "code",
   "execution_count": 21,
   "id": "6adf0e3a",
   "metadata": {},
   "outputs": [],
   "source": [
    "\n",
    "import pandas as pd\n",
    "import numpy as np\n",
    "from sklearn.linear_model import LogisticRegression\n",
    "from sklearn.model_selection import KFold\n",
    "from sklearn.model_selection import cross_val_score\n",
    "from sklearn.model_selection import train_test_split\n",
    "\n",
    "\n",
    "da = pd.read_csv('C:/Users/User/Downloads/jais/shipments.csv')\n",
    "\n",
    "\n",
    "\n",
    "da.drop([\"ID\"],inplace=True,axis = 1)\n",
    "da= da.dropna()  \n",
    "#label encoding\n",
    "da[\"Warehouse_block\"].replace({\"A\":0,\"B\":1,\"C\":2,\"D\":3,\"F\":4},inplace=True)\n",
    "da[\"Mode_of_Shipment\"].replace({\"Flight\":0,\"Road\":1,\"Ship\":2},inplace=True)\n",
    "da[\"Product_importance\"].replace({\"high\":0,\"low\":1,\"medium\":2},inplace=True)\n",
    "da[\"Gender\"].replace({\"M\":1,\"F\":0},inplace=True)\n",
    "da.Gender=da.Gender.astype(str).str.strip()\n",
    "da = da.rename({'Reached.on.Time_Y.N':'target'},axis = 1)\n",
    "\n",
    "# Class count\n",
    "count_class_0, count_class_1 = da.target.value_counts()\n",
    "\n",
    "# Divide by class\n",
    "df_class_0 = da[da['target'] == 0]\n",
    "df_class_1 = da[da['target'] == 1]\n",
    "\n",
    "\n",
    "df_class_1_over = df_class_1.sample(count_class_0, replace=True)\n",
    "df_test_over = pd.concat([df_class_0, df_class_1_over], axis=0)\n",
    "norm_data=df_test_over[['Cost_of_the_Product','Discount_offered','Weight_in_gms']]\n",
    "\n",
    "ntdata= (norm_data - np.min(norm_data)) / (np.max(norm_data) - np.min(norm_data))\n",
    "dat=df_test_over.drop(['Cost_of_the_Product','Discount_offered','Weight_in_gms'],axis=1)\n",
    "newdata=pd.concat([ntdata,dat],axis=1)\n",
    "\n",
    "\n",
    "y = newdata.target\n",
    "x = newdata.drop('target', axis=1)\n",
    "x_train, x_test, y_train, y_test = train_test_split(x,y,test_size=0.14,shuffle=True,random_state=45)\n",
    "\n",
    "\n",
    "from imblearn.over_sampling import SMOTE\n",
    "\n",
    "# create the  object with the desired sampling strategy.\n",
    "smote = SMOTE(sampling_strategy='not minority')\n",
    "x_train_enn, y_train_enn=smote.fit_resample(x_train,y_train)\n",
    "\n",
    "\n",
    "\n",
    "\n",
    "\n"
   ]
  },
  {
   "cell_type": "code",
   "execution_count": 22,
   "id": "1aa92124",
   "metadata": {},
   "outputs": [],
   "source": [
    "model_ran = LogisticRegression()"
   ]
  },
  {
   "cell_type": "code",
   "execution_count": 23,
   "id": "87d575d6",
   "metadata": {},
   "outputs": [
    {
     "data": {
      "text/plain": [
       "array([0.63530655, 0.66596195, 0.64059197, 0.67230444, 0.62473573,\n",
       "       0.63636364, 0.62896406, 0.64799154, 0.63319239, 0.67195767])"
      ]
     },
     "execution_count": 23,
     "metadata": {},
     "output_type": "execute_result"
    }
   ],
   "source": [
    "from sklearn.model_selection import KFold\n",
    "from sklearn.model_selection import cross_val_score\n",
    "cv=KFold(10,random_state=56,shuffle=True)\n",
    "cross_val_score(model_ran,x_train,y_train,cv=cv)"
   ]
  },
  {
   "cell_type": "code",
   "execution_count": 24,
   "id": "a2de6a6d",
   "metadata": {},
   "outputs": [
    {
     "data": {
      "text/plain": [
       "LogisticRegression()"
      ]
     },
     "execution_count": 24,
     "metadata": {},
     "output_type": "execute_result"
    }
   ],
   "source": [
    "model_ran.fit(x_train_enn, y_train_enn)"
   ]
  },
  {
   "cell_type": "code",
   "execution_count": 25,
   "id": "055e9704",
   "metadata": {},
   "outputs": [],
   "source": [
    "y_pred=model_ran.predict(x_test)"
   ]
  },
  {
   "cell_type": "code",
   "execution_count": 26,
   "id": "ae0c2c0d",
   "metadata": {},
   "outputs": [
    {
     "name": "stdout",
     "output_type": "stream",
     "text": [
      "              precision    recall  f1-score   support\n",
      "\n",
      "           0       0.62      0.57      0.59       692\n",
      "           1       0.67      0.71      0.69       848\n",
      "\n",
      "    accuracy                           0.65      1540\n",
      "   macro avg       0.64      0.64      0.64      1540\n",
      "weighted avg       0.65      0.65      0.65      1540\n",
      "\n"
     ]
    }
   ],
   "source": [
    "from sklearn.metrics import classification_report\n",
    "from sklearn.metrics import confusion_matrix\n",
    "print(classification_report(y_pred,y_test))"
   ]
  },
  {
   "cell_type": "code",
   "execution_count": 27,
   "id": "4b41e856",
   "metadata": {},
   "outputs": [
    {
     "data": {
      "text/plain": [
       "<AxesSubplot:xlabel='row_0'>"
      ]
     },
     "execution_count": 27,
     "metadata": {},
     "output_type": "execute_result"
    },
    {
     "data": {
      "image/png": "[encoded data removed]",
      "text/plain": [
       "<Figure size 432x288 with 1 Axes>"
      ]
     },
     "metadata": {
      "needs_background": "light"
     },
     "output_type": "display_data"
    }
   ],
   "source": [
    "pd.crosstab(y_pred,y_test).plot(kind='bar',color=['C8','C9'])"
   ]
  },
  {
   "cell_type": "code",
   "execution_count": null,
   "id": "1cdb51a5",
   "metadata": {},
   "outputs": [],
   "source": []
  },
  {
   "cell_type": "code",
   "execution_count": null,
   "id": "355ff3a8",
   "metadata": {},
   "outputs": [],
   "source": []
  }
 ],
 "metadata": {
  "kernelspec": {
   "display_name": "Python 3",
   "language": "python",
   "name": "python3"
  },
  "language_info": {
   "codemirror_mode": {
    "name": "ipython",
    "version": 3
   },
   "file_extension": ".py",
   "mimetype": "text/x-python",
   "name": "python",
   "nbconvert_exporter": "python",
   "pygments_lexer": "ipython3",
   "version": "3.8.8"
  }
 },
 "nbformat": 4,
 "nbformat_minor": 5
}
